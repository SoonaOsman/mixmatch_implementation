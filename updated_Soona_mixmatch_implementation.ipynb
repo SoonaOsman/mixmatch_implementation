{
  "nbformat": 4,
  "nbformat_minor": 0,
  "metadata": {
    "accelerator": "GPU",
    "colab": {
      "name": "updated_Soona_mixmatch_implementation.ipynb",
      "provenance": [],
      "collapsed_sections": []
    },
    "kernelspec": {
      "display_name": "Python 3",
      "name": "python3"
    },
    "language_info": {
      "name": "python"
    },
    "widgets": {
      "application/vnd.jupyter.widget-state+json": {
        "ec48f1ee038d497fa724af7d9ff2149a": {
          "model_module": "@jupyter-widgets/controls",
          "model_name": "HBoxModel",
          "model_module_version": "1.5.0",
          "state": {
            "_view_name": "HBoxView",
            "_dom_classes": [],
            "_model_name": "HBoxModel",
            "_view_module": "@jupyter-widgets/controls",
            "_model_module_version": "1.5.0",
            "_view_count": null,
            "_view_module_version": "1.5.0",
            "box_style": "",
            "layout": "IPY_MODEL_56946920ee2a43079ab5bb355e8c3bc5",
            "_model_module": "@jupyter-widgets/controls",
            "children": [
              "IPY_MODEL_0a5c4e290a06481ba2e2a6a5e2c6fb1b",
              "IPY_MODEL_cb21c069ccb24f4d91a735820bb51ab6",
              "IPY_MODEL_dc7126c2839c45e5ad5b5f8f40ff6bda"
            ]
          }
        },
        "56946920ee2a43079ab5bb355e8c3bc5": {
          "model_module": "@jupyter-widgets/base",
          "model_name": "LayoutModel",
          "model_module_version": "1.2.0",
          "state": {
            "_view_name": "LayoutView",
            "grid_template_rows": null,
            "right": null,
            "justify_content": null,
            "_view_module": "@jupyter-widgets/base",
            "overflow": null,
            "_model_module_version": "1.2.0",
            "_view_count": null,
            "flex_flow": null,
            "width": null,
            "min_width": null,
            "border": null,
            "align_items": null,
            "bottom": null,
            "_model_module": "@jupyter-widgets/base",
            "top": null,
            "grid_column": null,
            "overflow_y": null,
            "overflow_x": null,
            "grid_auto_flow": null,
            "grid_area": null,
            "grid_template_columns": null,
            "flex": null,
            "_model_name": "LayoutModel",
            "justify_items": null,
            "grid_row": null,
            "max_height": null,
            "align_content": null,
            "visibility": null,
            "align_self": null,
            "height": null,
            "min_height": null,
            "padding": null,
            "grid_auto_rows": null,
            "grid_gap": null,
            "max_width": null,
            "order": null,
            "_view_module_version": "1.2.0",
            "grid_template_areas": null,
            "object_position": null,
            "object_fit": null,
            "grid_auto_columns": null,
            "margin": null,
            "display": null,
            "left": null
          }
        },
        "0a5c4e290a06481ba2e2a6a5e2c6fb1b": {
          "model_module": "@jupyter-widgets/controls",
          "model_name": "HTMLModel",
          "model_module_version": "1.5.0",
          "state": {
            "_view_name": "HTMLView",
            "style": "IPY_MODEL_d84601ac7c8b4883baaa301ed9b3f4ad",
            "_dom_classes": [],
            "description": "",
            "_model_name": "HTMLModel",
            "placeholder": "​",
            "_view_module": "@jupyter-widgets/controls",
            "_model_module_version": "1.5.0",
            "value": "",
            "_view_count": null,
            "_view_module_version": "1.5.0",
            "description_tooltip": null,
            "_model_module": "@jupyter-widgets/controls",
            "layout": "IPY_MODEL_b20d327d021a40bfa8decf6a449c5a6e"
          }
        },
        "cb21c069ccb24f4d91a735820bb51ab6": {
          "model_module": "@jupyter-widgets/controls",
          "model_name": "FloatProgressModel",
          "model_module_version": "1.5.0",
          "state": {
            "_view_name": "ProgressView",
            "style": "IPY_MODEL_0b581c03a91e4c2291ea9d0af69cd9e4",
            "_dom_classes": [],
            "description": "",
            "_model_name": "FloatProgressModel",
            "bar_style": "success",
            "max": 170498071,
            "_view_module": "@jupyter-widgets/controls",
            "_model_module_version": "1.5.0",
            "value": 170498071,
            "_view_count": null,
            "_view_module_version": "1.5.0",
            "orientation": "horizontal",
            "min": 0,
            "description_tooltip": null,
            "_model_module": "@jupyter-widgets/controls",
            "layout": "IPY_MODEL_b47dd5f5b79a454591dfd59e0122abb6"
          }
        },
        "dc7126c2839c45e5ad5b5f8f40ff6bda": {
          "model_module": "@jupyter-widgets/controls",
          "model_name": "HTMLModel",
          "model_module_version": "1.5.0",
          "state": {
            "_view_name": "HTMLView",
            "style": "IPY_MODEL_6a9616ef2e8d4ca383c192b8fc9ca6a6",
            "_dom_classes": [],
            "description": "",
            "_model_name": "HTMLModel",
            "placeholder": "​",
            "_view_module": "@jupyter-widgets/controls",
            "_model_module_version": "1.5.0",
            "value": " 170499072/? [00:03&lt;00:00, 54480075.39it/s]",
            "_view_count": null,
            "_view_module_version": "1.5.0",
            "description_tooltip": null,
            "_model_module": "@jupyter-widgets/controls",
            "layout": "IPY_MODEL_34d6c9df6927429f918f50cc91b3f924"
          }
        },
        "d84601ac7c8b4883baaa301ed9b3f4ad": {
          "model_module": "@jupyter-widgets/controls",
          "model_name": "DescriptionStyleModel",
          "model_module_version": "1.5.0",
          "state": {
            "_view_name": "StyleView",
            "_model_name": "DescriptionStyleModel",
            "description_width": "",
            "_view_module": "@jupyter-widgets/base",
            "_model_module_version": "1.5.0",
            "_view_count": null,
            "_view_module_version": "1.2.0",
            "_model_module": "@jupyter-widgets/controls"
          }
        },
        "b20d327d021a40bfa8decf6a449c5a6e": {
          "model_module": "@jupyter-widgets/base",
          "model_name": "LayoutModel",
          "model_module_version": "1.2.0",
          "state": {
            "_view_name": "LayoutView",
            "grid_template_rows": null,
            "right": null,
            "justify_content": null,
            "_view_module": "@jupyter-widgets/base",
            "overflow": null,
            "_model_module_version": "1.2.0",
            "_view_count": null,
            "flex_flow": null,
            "width": null,
            "min_width": null,
            "border": null,
            "align_items": null,
            "bottom": null,
            "_model_module": "@jupyter-widgets/base",
            "top": null,
            "grid_column": null,
            "overflow_y": null,
            "overflow_x": null,
            "grid_auto_flow": null,
            "grid_area": null,
            "grid_template_columns": null,
            "flex": null,
            "_model_name": "LayoutModel",
            "justify_items": null,
            "grid_row": null,
            "max_height": null,
            "align_content": null,
            "visibility": null,
            "align_self": null,
            "height": null,
            "min_height": null,
            "padding": null,
            "grid_auto_rows": null,
            "grid_gap": null,
            "max_width": null,
            "order": null,
            "_view_module_version": "1.2.0",
            "grid_template_areas": null,
            "object_position": null,
            "object_fit": null,
            "grid_auto_columns": null,
            "margin": null,
            "display": null,
            "left": null
          }
        },
        "0b581c03a91e4c2291ea9d0af69cd9e4": {
          "model_module": "@jupyter-widgets/controls",
          "model_name": "ProgressStyleModel",
          "model_module_version": "1.5.0",
          "state": {
            "_view_name": "StyleView",
            "_model_name": "ProgressStyleModel",
            "description_width": "",
            "_view_module": "@jupyter-widgets/base",
            "_model_module_version": "1.5.0",
            "_view_count": null,
            "_view_module_version": "1.2.0",
            "bar_color": null,
            "_model_module": "@jupyter-widgets/controls"
          }
        },
        "b47dd5f5b79a454591dfd59e0122abb6": {
          "model_module": "@jupyter-widgets/base",
          "model_name": "LayoutModel",
          "model_module_version": "1.2.0",
          "state": {
            "_view_name": "LayoutView",
            "grid_template_rows": null,
            "right": null,
            "justify_content": null,
            "_view_module": "@jupyter-widgets/base",
            "overflow": null,
            "_model_module_version": "1.2.0",
            "_view_count": null,
            "flex_flow": null,
            "width": null,
            "min_width": null,
            "border": null,
            "align_items": null,
            "bottom": null,
            "_model_module": "@jupyter-widgets/base",
            "top": null,
            "grid_column": null,
            "overflow_y": null,
            "overflow_x": null,
            "grid_auto_flow": null,
            "grid_area": null,
            "grid_template_columns": null,
            "flex": null,
            "_model_name": "LayoutModel",
            "justify_items": null,
            "grid_row": null,
            "max_height": null,
            "align_content": null,
            "visibility": null,
            "align_self": null,
            "height": null,
            "min_height": null,
            "padding": null,
            "grid_auto_rows": null,
            "grid_gap": null,
            "max_width": null,
            "order": null,
            "_view_module_version": "1.2.0",
            "grid_template_areas": null,
            "object_position": null,
            "object_fit": null,
            "grid_auto_columns": null,
            "margin": null,
            "display": null,
            "left": null
          }
        },
        "6a9616ef2e8d4ca383c192b8fc9ca6a6": {
          "model_module": "@jupyter-widgets/controls",
          "model_name": "DescriptionStyleModel",
          "model_module_version": "1.5.0",
          "state": {
            "_view_name": "StyleView",
            "_model_name": "DescriptionStyleModel",
            "description_width": "",
            "_view_module": "@jupyter-widgets/base",
            "_model_module_version": "1.5.0",
            "_view_count": null,
            "_view_module_version": "1.2.0",
            "_model_module": "@jupyter-widgets/controls"
          }
        },
        "34d6c9df6927429f918f50cc91b3f924": {
          "model_module": "@jupyter-widgets/base",
          "model_name": "LayoutModel",
          "model_module_version": "1.2.0",
          "state": {
            "_view_name": "LayoutView",
            "grid_template_rows": null,
            "right": null,
            "justify_content": null,
            "_view_module": "@jupyter-widgets/base",
            "overflow": null,
            "_model_module_version": "1.2.0",
            "_view_count": null,
            "flex_flow": null,
            "width": null,
            "min_width": null,
            "border": null,
            "align_items": null,
            "bottom": null,
            "_model_module": "@jupyter-widgets/base",
            "top": null,
            "grid_column": null,
            "overflow_y": null,
            "overflow_x": null,
            "grid_auto_flow": null,
            "grid_area": null,
            "grid_template_columns": null,
            "flex": null,
            "_model_name": "LayoutModel",
            "justify_items": null,
            "grid_row": null,
            "max_height": null,
            "align_content": null,
            "visibility": null,
            "align_self": null,
            "height": null,
            "min_height": null,
            "padding": null,
            "grid_auto_rows": null,
            "grid_gap": null,
            "max_width": null,
            "order": null,
            "_view_module_version": "1.2.0",
            "grid_template_areas": null,
            "object_position": null,
            "object_fit": null,
            "grid_auto_columns": null,
            "margin": null,
            "display": null,
            "left": null
          }
        }
      }
    }
  },
  "cells": [
    {
      "cell_type": "code",
      "metadata": {
        "id": "TCMhSD0BlACp"
      },
      "source": [
        "import torch \n",
        "import numpy as np\n",
        "import imgaug.augmenters as iaa\n",
        "import torchvision\n",
        "import torchvision.transforms as transforms\n",
        "import torchvision.models as models\n",
        "from torch.utils.data import Dataset, DataLoader\n",
        "from sklearn.model_selection import train_test_split\n",
        "import torchvision.transforms.functional as TF\n",
        "from PIL import Image\n",
        "import time"
      ],
      "execution_count": 1,
      "outputs": []
    },
    {
      "cell_type": "code",
      "metadata": {
        "colab": {
          "base_uri": "https://localhost:8080/"
        },
        "id": "cKLxfBgtDe35",
        "outputId": "19910371-6aa2-44aa-edc0-52bae8924f83"
      },
      "source": [
        "device = torch.device('cuda:0' if torch.cuda.is_available() else 'cpu')\n",
        "device"
      ],
      "execution_count": 2,
      "outputs": [
        {
          "output_type": "execute_result",
          "data": {
            "text/plain": [
              "device(type='cuda', index=0)"
            ]
          },
          "metadata": {},
          "execution_count": 2
        }
      ]
    },
    {
      "cell_type": "code",
      "metadata": {
        "id": "Bw-KA5Dmn4RT"
      },
      "source": [
        "def Sharpening(p,T):\n",
        "  return p**(1/T) / (p**(1/T)).sum(axis=0, keepdims=True)"
      ],
      "execution_count": 3,
      "outputs": []
    },
    {
      "cell_type": "code",
      "metadata": {
        "colab": {
          "base_uri": "https://localhost:8080/"
        },
        "id": "v9L8I-G4iCtF",
        "outputId": "9b9d8539-8dee-4201-9ecc-f5518b2d6ab7"
      },
      "source": [
        "Sharpening(torch.tensor([0.8,0.1,0.1]) , T=1.4)"
      ],
      "execution_count": 16,
      "outputs": [
        {
          "output_type": "execute_result",
          "data": {
            "text/plain": [
              "tensor([0.6883, 0.1559, 0.1559])"
            ]
          },
          "metadata": {},
          "execution_count": 16
        }
      ]
    },
    {
      "cell_type": "code",
      "metadata": {
        "id": "6ziUgPZzoHOM"
      },
      "source": [
        "def MixUp(x1,p1,x2,p2,alpha):\n",
        "  lamda = np.random.beta(alpha, alpha) \n",
        "  lamda_h = np.maximum(lamda, 1-lamda)\n",
        "  x = lamda_h * x1 + (1 - lamda_h) * x2\n",
        "  p = lamda_h * p1.to(device) + (1 - lamda_h) * p2.to(device)\n",
        "  return x,p"
      ],
      "execution_count": 4,
      "outputs": []
    },
    {
      "cell_type": "code",
      "metadata": {
        "id": "r6vnNq7K8Kn3"
      },
      "source": [
        "def mixMatch(model, x, P, u1, u2,size=32, T=0.5, K=2, alpha=0.75):\n",
        "  P=torch.nn.functional.one_hot(P)\n",
        "  b=x.shape[0]\n",
        "  u_new = torch.cat((u1,u2),dim=0)\n",
        "  label_i = model(u_new.to(device))\n",
        "  labels=torch.zeros(2*P.shape[0],P.shape[1])\n",
        "  for i in range(b):\n",
        "    l=(label_i[i]+label_i[i+b])/2\n",
        "    S=Sharpening(l,T)\n",
        "    labels[i]=(S)\n",
        "    labels[i+b]=(S)\n",
        "  W = torch.cat([x, u_new],dim=0)\n",
        "  Q = torch.cat((P, labels),dim=0)\n",
        "  indices = np.random.shuffle(np.arange(len(W)))\n",
        "  W=W[indices]\n",
        "  Q=Q[indices]\n",
        "  X_, p = MixUp(x, P, W[0][:len(x)], Q[0][:len(P)], alpha)\n",
        "  U_, q = MixUp(u_new, labels, W[0][len(x):], Q[0][len(P):], alpha)\n",
        "  # print(\"Pass MixMatch\")\n",
        "  return X_, U_, p, q"
      ],
      "execution_count": 5,
      "outputs": []
    },
    {
      "cell_type": "code",
      "metadata": {
        "id": "0GrEkGtioZGS"
      },
      "source": [
        "def ssLoss( p, pred_x, q, pred_u, lamda_u=100):\n",
        "  l_x= torch.nn.CrossEntropyLoss()(pred_x,torch.max(p, 1)[1]) \n",
        "  l_u= torch.nn.MSELoss()(pred_u,q)\n",
        "  return l_x + lamda_u*l_u"
      ],
      "execution_count": 6,
      "outputs": []
    },
    {
      "cell_type": "code",
      "metadata": {
        "id": "5aS9kRT1j2YP"
      },
      "source": [
        " import math\n",
        "import torch\n",
        "import torch.nn as nn\n",
        "import torch.nn.functional as F\n",
        "\n",
        "\n",
        "class BasicBlock(nn.Module):\n",
        "    def __init__(self, in_planes, out_planes, stride, dropRate=0.0, activate_before_residual=False):\n",
        "        super(BasicBlock, self).__init__()\n",
        "        self.bn1 = nn.BatchNorm2d(in_planes, momentum=0.001)\n",
        "        self.relu1 = nn.LeakyReLU(negative_slope=0.1, inplace=True)\n",
        "        self.conv1 = nn.Conv2d(in_planes, out_planes, kernel_size=3, stride=stride,\n",
        "                               padding=1, bias=False)\n",
        "        self.bn2 = nn.BatchNorm2d(out_planes, momentum=0.001)\n",
        "        self.relu2 = nn.LeakyReLU(negative_slope=0.1, inplace=True)\n",
        "        self.conv2 = nn.Conv2d(out_planes, out_planes, kernel_size=3, stride=1,\n",
        "                               padding=1, bias=False)\n",
        "        self.droprate = dropRate\n",
        "        self.equalInOut = (in_planes == out_planes)\n",
        "        self.convShortcut = (not self.equalInOut) and nn.Conv2d(in_planes, out_planes, kernel_size=1, stride=stride,\n",
        "                               padding=0, bias=False) or None\n",
        "        self.activate_before_residual = activate_before_residual\n",
        "    def forward(self, x):\n",
        "        if not self.equalInOut and self.activate_before_residual == True:\n",
        "            x = self.relu1(self.bn1(x))\n",
        "        else:\n",
        "            out = self.relu1(self.bn1(x))\n",
        "        out = self.relu2(self.bn2(self.conv1(out if self.equalInOut else x)))\n",
        "        if self.droprate > 0:\n",
        "            out = F.dropout(out, p=self.droprate, training=self.training)\n",
        "        out = self.conv2(out)\n",
        "        return torch.add(x if self.equalInOut else self.convShortcut(x), out)\n",
        "\n",
        "class NetworkBlock(nn.Module):\n",
        "    def __init__(self, nb_layers, in_planes, out_planes, block, stride, dropRate=0.0, activate_before_residual=False):\n",
        "        super(NetworkBlock, self).__init__()\n",
        "        self.layer = self._make_layer(block, in_planes, out_planes, nb_layers, stride, dropRate, activate_before_residual)\n",
        "    def _make_layer(self, block, in_planes, out_planes, nb_layers, stride, dropRate, activate_before_residual):\n",
        "        layers = []\n",
        "        for i in range(int(nb_layers)):\n",
        "            layers.append(block(i == 0 and in_planes or out_planes, out_planes, i == 0 and stride or 1, dropRate, activate_before_residual))\n",
        "        return nn.Sequential(*layers)\n",
        "    def forward(self, x):\n",
        "        return self.layer(x)\n",
        "\n",
        "class WideResNet(nn.Module):\n",
        "    def __init__(self, num_classes, depth=28, widen_factor=2, dropRate=0.0):\n",
        "        super(WideResNet, self).__init__()\n",
        "        nChannels = [16, 16*widen_factor, 32*widen_factor, 64*widen_factor]\n",
        "        assert((depth - 4) % 6 == 0)\n",
        "        n = (depth - 4) / 6\n",
        "        block = BasicBlock\n",
        "        # 1st conv before any network block\n",
        "        self.conv1 = nn.Conv2d(3, nChannels[0], kernel_size=3, stride=1,\n",
        "                               padding=1, bias=False)\n",
        "        # 1st block\n",
        "        self.block1 = NetworkBlock(n, nChannels[0], nChannels[1], block, 1, dropRate, activate_before_residual=True)\n",
        "        # 2nd block\n",
        "        self.block2 = NetworkBlock(n, nChannels[1], nChannels[2], block, 2, dropRate)\n",
        "        # 3rd block\n",
        "        self.block3 = NetworkBlock(n, nChannels[2], nChannels[3], block, 2, dropRate)\n",
        "        # global average pooling and classifier\n",
        "        self.bn1 = nn.BatchNorm2d(nChannels[3], momentum=0.001)\n",
        "        self.relu = nn.LeakyReLU(negative_slope=0.1, inplace=True)\n",
        "        self.fc = nn.Linear(nChannels[3], num_classes)\n",
        "        self.nChannels = nChannels[3]\n",
        "\n",
        "        for m in self.modules():\n",
        "            if isinstance(m, nn.Conv2d):\n",
        "                n = m.kernel_size[0] * m.kernel_size[1] * m.out_channels\n",
        "                m.weight.data.normal_(0, math.sqrt(2. / n))\n",
        "            elif isinstance(m, nn.BatchNorm2d):\n",
        "                m.weight.data.fill_(1)\n",
        "                m.bias.data.zero_()\n",
        "            elif isinstance(m, nn.Linear):\n",
        "                nn.init.xavier_normal_(m.weight.data)\n",
        "                m.bias.data.zero_()\n",
        "\n",
        "    def forward(self, x):\n",
        "        out = self.conv1(x)\n",
        "        out = self.block1(out)\n",
        "        out = self.block2(out)\n",
        "        out = self.block3(out)\n",
        "        out = self.relu(self.bn1(out))\n",
        "        out = F.avg_pool2d(out, 8)\n",
        "        out = out.view(-1, self.nChannels)\n",
        "        return self.fc(out)"
      ],
      "execution_count": 7,
      "outputs": []
    },
    {
      "cell_type": "code",
      "metadata": {
        "id": "dVOLPe40PzG-"
      },
      "source": [
        "wide_resnet28_model=WideResNet(num_classes=10)"
      ],
      "execution_count": 56,
      "outputs": []
    },
    {
      "cell_type": "code",
      "metadata": {
        "id": "WzsCDSH4E4E2"
      },
      "source": [
        "optimizer = torch.optim.Adam(wide_resnet28_model.parameters(), weight_decay=0.0004 ) "
      ],
      "execution_count": 9,
      "outputs": []
    },
    {
      "cell_type": "code",
      "metadata": {
        "id": "rZxGiGdvHyEB"
      },
      "source": [
        "def train(model ,d_labled, d_unlabled, optimizer,num_epochs):\n",
        "  iters=64 #int(len(d_unlabled.sampler)/d_unlabled.batch_size)\n",
        "  print('iters ',iters)\n",
        "  model.train()\n",
        "  model = model.to(device)\n",
        "  losses=[]\n",
        "  accs=[]\n",
        "  for epoch in range(num_epochs):\n",
        "    begin=time.time()\n",
        "    epoch_loss=0\n",
        "    for i in range(iters):\n",
        "      (x,p)=next(iter(d_labled))\n",
        "      ((u1,u2),_)=next(iter(d_unlabled))\n",
        "      X, U, p, q = mixMatch(model,x,p,u1,u2)\n",
        "      X_pred= model(X.to(device))\n",
        "      U_pred = model(U.to(device))\n",
        "      loss = ssLoss(p,X_pred,q, U_pred)\n",
        "      loss.backward()\n",
        "      optimizer.step()\n",
        "      epoch_loss+=loss.item()\n",
        "    if epoch%2==0:\n",
        "        acc=test(model, d_val, epoch)\n",
        "        accs.append(acc)\n",
        "\n",
        "    \n",
        "    print(f'epoch {epoch} loss {epoch_loss/d_unlabled.batch_size}, time {time.time()-begin}')\n",
        "    losses.append(epoch_loss/d_unlabled.batch_size)\n",
        "  return accs , losses"
      ],
      "execution_count": 55,
      "outputs": []
    },
    {
      "cell_type": "code",
      "metadata": {
        "id": "u60PjS4sXjZR"
      },
      "source": [
        "def test(model,test_loader,epoch):\n",
        "  model = model.to(device)\n",
        "  model.eval()\n",
        "  correct=0\n",
        "  for x ,y in test_loader:\n",
        "    output=model(x.to(device))\n",
        "    pred = output.argmax(dim=1, keepdim=True)\n",
        "    correct += pred.cpu().eq(y.view_as(pred)).sum().item()\n",
        "\n",
        "  percent = 100. * correct / len(test_loader.sampler)\n",
        "  print(f'epoch {epoch} Test accuracy: ({percent:.2f}%)')\n",
        "  model.train()\n",
        "  torch.save(model.state_dict(), f'{epoch}model.ckpt')\n",
        "  return percent\n"
      ],
      "execution_count": 47,
      "outputs": []
    },
    {
      "cell_type": "code",
      "metadata": {
        "colab": {
          "base_uri": "https://localhost:8080/",
          "height": 84,
          "referenced_widgets": [
            "ec48f1ee038d497fa724af7d9ff2149a",
            "56946920ee2a43079ab5bb355e8c3bc5",
            "0a5c4e290a06481ba2e2a6a5e2c6fb1b",
            "cb21c069ccb24f4d91a735820bb51ab6",
            "dc7126c2839c45e5ad5b5f8f40ff6bda",
            "d84601ac7c8b4883baaa301ed9b3f4ad",
            "b20d327d021a40bfa8decf6a449c5a6e",
            "0b581c03a91e4c2291ea9d0af69cd9e4",
            "b47dd5f5b79a454591dfd59e0122abb6",
            "6a9616ef2e8d4ca383c192b8fc9ca6a6",
            "34d6c9df6927429f918f50cc91b3f924"
          ]
        },
        "id": "m5Jl9rGsCNFW",
        "outputId": "04de57cd-c6eb-48ce-d243-87f017285c6f"
      },
      "source": [
        "trainset = torchvision.datasets.CIFAR10(root='./data',\n",
        "                                        download=True)"
      ],
      "execution_count": 12,
      "outputs": [
        {
          "output_type": "stream",
          "text": [
            "Downloading https://www.cs.toronto.edu/~kriz/cifar-10-python.tar.gz to ./data/cifar-10-python.tar.gz\n"
          ],
          "name": "stdout"
        },
        {
          "output_type": "display_data",
          "data": {
            "application/vnd.jupyter.widget-view+json": {
              "model_id": "ec48f1ee038d497fa724af7d9ff2149a",
              "version_minor": 0,
              "version_major": 2
            },
            "text/plain": [
              "  0%|          | 0/170498071 [00:00<?, ?it/s]"
            ]
          },
          "metadata": {}
        },
        {
          "output_type": "stream",
          "text": [
            "Extracting ./data/cifar-10-python.tar.gz to ./data\n"
          ],
          "name": "stdout"
        }
      ]
    },
    {
      "cell_type": "code",
      "metadata": {
        "id": "cE6p-qqbHC58"
      },
      "source": [
        "X_train =trainset.data \n",
        "y_train =trainset.targets\n",
        "\n",
        "# # Train set / Validation set split \n",
        "X_train, X_val, y_train, y_val = train_test_split(X_train, y_train, test_size=0.3, random_state=1,\n",
        "                                                          shuffle=True, stratify=y_train)\n",
        "\n",
        "# Train unlabeled / Train labeled split\n",
        "X_unlabled, X_labled, y_unlabeled, y_labeled = train_test_split(X_train, y_train, test_size=0.008, random_state=1,\n",
        "                                                          shuffle=True, stratify=y_train)\n",
        "\n",
        "mean=[0.485, 0.456, 0.406]\n",
        "std=[0.229, 0.224, 0.225]\n",
        "normalize = transforms.Normalize(mean=mean, std=std)\n",
        "\n",
        "t =  transforms.Compose([\n",
        "                                         transforms.RandomRotation(30),\n",
        "                                        transforms.RandomHorizontalFlip(),\n",
        "                                        transforms.ToTensor(),\n",
        "                                         normalize])\n",
        "t_val =  transforms.Compose([\n",
        "                                        transforms.ToTensor(),\n",
        "                                         normalize])"
      ],
      "execution_count": 49,
      "outputs": []
    },
    {
      "cell_type": "code",
      "metadata": {
        "id": "Z-XkhYHstRby"
      },
      "source": [
        "class two_transforms():\n",
        "  def __init__(self):\n",
        "    self.t1 = transforms.Compose([\n",
        "                                         transforms.RandomRotation(30),\n",
        "                                        transforms.RandomHorizontalFlip(),\n",
        "                                        transforms.ToTensor(),\n",
        "                                         normalize])\n",
        "    self.t2 = transforms.Compose([\n",
        "                                         transforms.RandomRotation(30),\n",
        "                                        transforms.RandomHorizontalFlip(),\n",
        "                                        transforms.ToTensor(),\n",
        "                                         normalize])\n",
        "  def __call__(self , x):\n",
        "    return self.t1(x) , self.t2(x)\n",
        "   "
      ],
      "execution_count": 50,
      "outputs": []
    },
    {
      "cell_type": "code",
      "metadata": {
        "id": "oCRwi5jL1sh3"
      },
      "source": [
        "class MyData(Dataset):\n",
        "    def __init__(self, x_train, y_train , transform):\n",
        "        self.x_train = x_train\n",
        "        self.y_train = y_train \n",
        "        self.transform = transform\n",
        "        \n",
        "    def __getitem__(self, index):\n",
        "        image = self.transform(Image.fromarray(self.x_train[index]))\n",
        "        label = self.y_train[index]\n",
        "      \n",
        "        return image, label\n",
        "   \n",
        "    def __len__(self):\n",
        "        return self.x_train.shape[0]\n",
        "\n"
      ],
      "execution_count": 51,
      "outputs": []
    },
    {
      "cell_type": "code",
      "metadata": {
        "colab": {
          "base_uri": "https://localhost:8080/"
        },
        "id": "F9mo4kA6WwRW",
        "outputId": "e1b7964c-6ede-4fb4-e360-379c7e7c891e"
      },
      "source": [
        "d_labled = DataLoader( MyData(X_labled[:256], y_labeled[:256], t) ,batch_size=64,  shuffle=True,num_workers=4) #one tran\n",
        "d_unlabled = DataLoader( MyData(X_unlabled, y_unlabeled, two_transforms()) , batch_size=64,shuffle=True,num_workers=4) #two tran\n",
        "d_val = DataLoader( MyData(X_val, y_val, t_val) ,batch_size=64,  shuffle=False,num_workers=4) #one tran"
      ],
      "execution_count": 52,
      "outputs": [
        {
          "output_type": "stream",
          "text": [
            "/usr/local/lib/python3.7/dist-packages/torch/utils/data/dataloader.py:481: UserWarning: This DataLoader will create 4 worker processes in total. Our suggested max number of worker in current system is 2, which is smaller than what this DataLoader is going to create. Please be aware that excessive worker creation might get DataLoader running slow or even freeze, lower the worker number to avoid potential slowness/freeze if necessary.\n",
            "  cpuset_checked))\n"
          ],
          "name": "stderr"
        }
      ]
    },
    {
      "cell_type": "code",
      "metadata": {
        "id": "5qDsknuEwJ8A"
      },
      "source": [
        "accs , losses = train(wide_resnet28_model,d_labled, d_unlabled,optimizer,20)\n"
      ],
      "execution_count": null,
      "outputs": []
    },
    {
      "cell_type": "code",
      "metadata": {
        "id": "gycChHIhpY1g"
      },
      "source": [
        "import matplotlib.pyplot as plt\n",
        "plt.plot(losses )"
      ],
      "execution_count": null,
      "outputs": []
    }
  ]
}